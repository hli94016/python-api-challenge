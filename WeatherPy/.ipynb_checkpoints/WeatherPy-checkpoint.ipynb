{
 "cells": [
  {
   "cell_type": "markdown",
   "metadata": {},
   "source": [
    "# WeatherPy\n",
    "----\n",
    "\n",
    "#### Note\n",
    "* Instructions have been included for each segment. You do not have to follow them exactly, but they are included to help you think through the steps."
   ]
  },
  {
   "cell_type": "code",
   "execution_count": 1,
   "metadata": {
    "scrolled": true
   },
   "outputs": [],
   "source": [
    "# Dependencies and Setup\n",
    "import matplotlib.pyplot as plt\n",
    "import pandas as pd\n",
    "import numpy as np\n",
    "import requests\n",
    "import time\n",
    "from scipy.stats import linregress\n",
    "import pprint\n",
    "\n",
    "\n",
    "# Import API key\n",
    "from api_keys import weather_api_key\n",
    "\n",
    "# Incorporated citipy to determine city based on latitude and longitude\n",
    "from citipy import citipy\n",
    "\n",
    "# Output File (CSV)\n",
    "output_data_file = \"../output_data/cities.csv\"\n",
    "\n",
    "# Range of latitudes and longitudes\n",
    "lat_range = (-90, 90)\n",
    "lng_range = (-180, 180)"
   ]
  },
  {
   "cell_type": "markdown",
   "metadata": {},
   "source": [
    "## Generate Cities List"
   ]
  },
  {
   "cell_type": "code",
   "execution_count": 2,
   "metadata": {},
   "outputs": [
    {
     "data": {
      "text/plain": [
       "619"
      ]
     },
     "execution_count": 2,
     "metadata": {},
     "output_type": "execute_result"
    }
   ],
   "source": [
    "# List for holding lat_lngs and cities\n",
    "lat_lngs = []\n",
    "cities = []\n",
    "\n",
    "# Create a set of random lat and lng combinations\n",
    "lats = np.random.uniform(lat_range[0], lat_range[1], size=1500)\n",
    "lngs = np.random.uniform(lng_range[0], lng_range[1], size=1500)\n",
    "lat_lngs = zip(lats, lngs)\n",
    "\n",
    "# Identify nearest city for each lat, lng combination\n",
    "for lat_lng in lat_lngs:\n",
    "    city = citipy.nearest_city(lat_lng[0], lat_lng[1]).city_name\n",
    "    \n",
    "    # If the city is unique, then add it to a our cities list\n",
    "    if city not in cities:\n",
    "        cities.append(city)\n",
    "\n",
    "# Print the city count to confirm sufficient count\n",
    "len(cities)"
   ]
  },
  {
   "cell_type": "markdown",
   "metadata": {},
   "source": [
    "### Perform API Calls\n",
    "* Perform a weather check on each city using a series of successive API calls.\n",
    "* Include a print log of each city as it'sbeing processed (with the city number and city name).\n"
   ]
  },
  {
   "cell_type": "code",
   "execution_count": 3,
   "metadata": {
    "scrolled": true
   },
   "outputs": [
    {
     "name": "stdout",
     "output_type": "stream",
     "text": [
      "Start logging\n",
      "It's processing 0 with name:rocha\n",
      "It's processing 1 with name:strezhevoy\n",
      "It's processing 2 with name:salalah\n",
      "It's processing 3 with name:ushuaia\n",
      "It's processing 4 with name:punta arenas\n",
      "It's processing 5 with name:santa cruz\n",
      "It's processing 6 with name:tuggurt\n",
      "tuggurt has no info.\n",
      "It's processing 7 with name:rikitea\n",
      "It's processing 8 with name:hermanus\n",
      "It's processing 9 with name:kasane\n",
      "It's processing 10 with name:boguchany\n",
      "It's processing 11 with name:mataura\n",
      "It's processing 12 with name:broome\n",
      "It's processing 13 with name:taolanaro\n",
      "taolanaro has no info.\n",
      "It's processing 14 with name:padang\n",
      "It's processing 15 with name:hilo\n",
      "It's processing 16 with name:busselton\n",
      "It's processing 17 with name:kutum\n",
      "It's processing 18 with name:san rafael\n",
      "It's processing 19 with name:oranjemund\n",
      "It's processing 20 with name:klaksvik\n",
      "It's processing 21 with name:belushya guba\n",
      "belushya guba has no info.\n",
      "It's processing 22 with name:kapaa\n",
      "It's processing 23 with name:albany\n",
      "It's processing 24 with name:ribeira grande\n",
      "It's processing 25 with name:clyde river\n",
      "It's processing 26 with name:saint-joseph\n",
      "It's processing 27 with name:pevek\n",
      "It's processing 28 with name:grand river south east\n",
      "grand river south east has no info.\n",
      "It's processing 29 with name:mutare\n",
      "It's processing 30 with name:barrow\n",
      "It's processing 31 with name:skagastrond\n",
      "skagastrond has no info.\n",
      "It's processing 32 with name:taoudenni\n",
      "It's processing 33 with name:katsuura\n",
      "It's processing 34 with name:fortuna\n",
      "It's processing 35 with name:zolotukhino\n",
      "It's processing 36 with name:mys shmidta\n",
      "mys shmidta has no info.\n",
      "It's processing 37 with name:bathsheba\n",
      "It's processing 38 with name:lichinga\n",
      "It's processing 39 with name:amderma\n",
      "amderma has no info.\n",
      "It's processing 40 with name:tevriz\n",
      "It's processing 41 with name:dikson\n",
      "It's processing 42 with name:tuatapere\n",
      "It's processing 43 with name:wodonga\n",
      "It's processing 44 with name:likasi\n",
      "It's processing 45 with name:ossora\n",
      "It's processing 46 with name:chuy\n",
      "It's processing 47 with name:celestun\n",
      "It's processing 48 with name:kalmunai\n",
      "It's processing 49 with name:beira\n",
      "It's processing 50 with name:adrar\n",
      "It's processing 51 with name:baykalsk\n",
      "It's processing 52 with name:tura\n",
      "It's processing 53 with name:avarua\n",
      "It's processing 54 with name:haibowan\n",
      "haibowan has no info.\n",
      "It's processing 55 with name:riviere-au-renard\n",
      "It's processing 56 with name:general pico\n",
      "It's processing 57 with name:comodoro rivadavia\n",
      "It's processing 58 with name:liepaja\n",
      "It's processing 59 with name:san patricio\n",
      "It's processing 60 with name:sinnamary\n",
      "It's processing 61 with name:hofn\n",
      "It's processing 62 with name:dzhida\n",
      "It's processing 63 with name:codrington\n",
      "It's processing 64 with name:ponta do sol\n",
      "It's processing 65 with name:hithadhoo\n",
      "It's processing 66 with name:opuwo\n",
      "It's processing 67 with name:bluff\n",
      "It's processing 68 with name:soyo\n",
      "It's processing 69 with name:iracoubo\n",
      "It's processing 70 with name:torbay\n",
      "It's processing 71 with name:saint-philippe\n",
      "It's processing 72 with name:taburi\n",
      "taburi has no info.\n",
      "It's processing 73 with name:gigmoto\n",
      "It's processing 74 with name:east london\n",
      "It's processing 75 with name:attawapiskat\n",
      "attawapiskat has no info.\n",
      "It's processing 76 with name:jamestown\n",
      "It's processing 77 with name:victoria\n",
      "It's processing 78 with name:tiksi\n",
      "It's processing 79 with name:formoso do araguaia\n",
      "formoso do araguaia has no info.\n",
      "It's processing 80 with name:norman wells\n",
      "It's processing 81 with name:birin\n",
      "It's processing 82 with name:natal\n",
      "It's processing 83 with name:tuktoyaktuk\n",
      "It's processing 84 with name:sao paulo de olivenca\n",
      "It's processing 85 with name:vestmanna\n",
      "It's processing 86 with name:strausberg\n",
      "It's processing 87 with name:chokurdakh\n",
      "It's processing 88 with name:saskylakh\n",
      "It's processing 89 with name:butaritari\n",
      "It's processing 90 with name:yulara\n",
      "It's processing 91 with name:upernavik\n",
      "It's processing 92 with name:pangnirtung\n",
      "It's processing 93 with name:nikolskoye\n",
      "It's processing 94 with name:alice town\n",
      "It's processing 95 with name:durant\n",
      "It's processing 96 with name:port-gentil\n",
      "It's processing 97 with name:sitka\n",
      "It's processing 98 with name:ipixuna\n",
      "It's processing 99 with name:zlatoustovsk\n",
      "zlatoustovsk has no info.\n",
      "It's processing 100 with name:saint george\n",
      "It's processing 101 with name:kazalinsk\n",
      "kazalinsk has no info.\n",
      "It's processing 102 with name:constitucion\n",
      "It's processing 103 with name:port elizabeth\n",
      "It's processing 104 with name:cape town\n",
      "It's processing 105 with name:bulgan\n",
      "It's processing 106 with name:illoqqortoormiut\n",
      "illoqqortoormiut has no info.\n",
      "It's processing 107 with name:manakara\n",
      "It's processing 108 with name:roma\n",
      "It's processing 109 with name:pochutla\n",
      "It's processing 110 with name:hobart\n",
      "It's processing 111 with name:isangel\n",
      "It's processing 112 with name:sistranda\n",
      "It's processing 113 with name:yellowknife\n",
      "It's processing 114 with name:ukiah\n",
      "It's processing 115 with name:longyearbyen\n",
      "It's processing 116 with name:cidreira\n",
      "It's processing 117 with name:aklavik\n",
      "It's processing 118 with name:siocon\n",
      "It's processing 119 with name:vaitupu\n",
      "vaitupu has no info.\n",
      "It's processing 120 with name:dilla\n",
      "It's processing 121 with name:svarstad\n",
      "It's processing 122 with name:provideniya\n",
      "It's processing 123 with name:barentsburg\n",
      "barentsburg has no info.\n",
      "It's processing 124 with name:geraldton\n",
      "It's processing 125 with name:putyatino\n",
      "It's processing 126 with name:port lincoln\n",
      "It's processing 127 with name:matadi\n",
      "It's processing 128 with name:carnarvon\n",
      "It's processing 129 with name:egvekinot\n",
      "It's processing 130 with name:griffith\n",
      "It's processing 131 with name:atuona\n",
      "It's processing 132 with name:boa vista\n",
      "It's processing 133 with name:luang prabang\n",
      "It's processing 134 with name:dolores\n",
      "It's processing 135 with name:itarema\n",
      "It's processing 136 with name:nanortalik\n",
      "It's processing 137 with name:puerto ayora\n",
      "It's processing 138 with name:sola\n",
      "It's processing 139 with name:cherskiy\n",
      "It's processing 140 with name:puerto baquerizo moreno\n",
      "It's processing 141 with name:sharjah\n",
      "It's processing 142 with name:nizhneyansk\n",
      "nizhneyansk has no info.\n",
      "It's processing 143 with name:tezu\n",
      "It's processing 144 with name:bredasdorp\n",
      "It's processing 145 with name:zhangye\n",
      "It's processing 146 with name:charters towers\n",
      "It's processing 147 with name:monrovia\n",
      "It's processing 148 with name:saldanha\n",
      "It's processing 149 with name:ilebo\n",
      "It's processing 150 with name:souillac\n",
      "It's processing 151 with name:anshun\n",
      "It's processing 152 with name:puerto colombia\n",
      "It's processing 153 with name:byron bay\n",
      "It's processing 154 with name:makat\n",
      "It's processing 155 with name:belmonte\n",
      "It's processing 156 with name:san buenaventura\n",
      "It's processing 157 with name:vaini\n",
      "It's processing 158 with name:mersing\n",
      "It's processing 159 with name:sentyabrskiy\n",
      "sentyabrskiy has no info.\n",
      "It's processing 160 with name:imeni poliny osipenko\n",
      "It's processing 161 with name:tabou\n",
      "It's processing 162 with name:pasinler\n",
      "It's processing 163 with name:shache\n",
      "It's processing 164 with name:la ronge\n",
      "It's processing 165 with name:san policarpo\n",
      "It's processing 166 with name:shabo\n",
      "It's processing 167 with name:iskateley\n",
      "It's processing 168 with name:awbari\n",
      "It's processing 169 with name:vestmannaeyjar\n",
      "It's processing 170 with name:nome\n",
      "It's processing 171 with name:arraial do cabo\n",
      "It's processing 172 with name:airai\n",
      "It's processing 173 with name:new norfolk\n",
      "It's processing 174 with name:austin\n",
      "It's processing 175 with name:mutsu\n",
      "It's processing 176 with name:bambanglipuro\n",
      "It's processing 177 with name:huarmey\n",
      "It's processing 178 with name:kiruna\n",
      "It's processing 179 with name:tabiauea\n",
      "tabiauea has no info.\n",
      "It's processing 180 with name:kodiak\n",
      "It's processing 181 with name:todos santos\n",
      "It's processing 182 with name:nouadhibou\n",
      "It's processing 183 with name:beringovskiy\n",
      "It's processing 184 with name:palmer\n",
      "It's processing 185 with name:sompeta\n",
      "It's processing 186 with name:port hedland\n",
      "It's processing 187 with name:huicungo\n",
      "It's processing 188 with name:chernyshevskiy\n",
      "It's processing 189 with name:bay roberts\n",
      "It's processing 190 with name:fare\n",
      "It's processing 191 with name:ayia marina\n",
      "It's processing 192 with name:dingle\n",
      "It's processing 193 with name:mar del plata\n",
      "It's processing 194 with name:xiamen\n",
      "It's processing 195 with name:kasangulu\n",
      "It's processing 196 with name:dunedin\n"
     ]
    },
    {
     "name": "stdout",
     "output_type": "stream",
     "text": [
      "It's processing 197 with name:quarai\n",
      "It's processing 198 with name:alta floresta\n",
      "It's processing 199 with name:rungata\n",
      "rungata has no info.\n",
      "It's processing 200 with name:kruisfontein\n",
      "It's processing 201 with name:khatanga\n",
      "It's processing 202 with name:laguna\n",
      "It's processing 203 with name:qaanaaq\n",
      "It's processing 204 with name:nefteyugansk\n",
      "It's processing 205 with name:thompson\n",
      "It's processing 206 with name:san felipe\n",
      "It's processing 207 with name:chingola\n",
      "It's processing 208 with name:marcona\n",
      "marcona has no info.\n",
      "It's processing 209 with name:sataua\n",
      "sataua has no info.\n",
      "It's processing 210 with name:port alfred\n",
      "It's processing 211 with name:lebu\n",
      "It's processing 212 with name:sisimiut\n",
      "It's processing 213 with name:tilichiki\n",
      "It's processing 214 with name:leningradskiy\n",
      "It's processing 215 with name:lagoa\n",
      "It's processing 216 with name:lompoc\n",
      "It's processing 217 with name:nhulunbuy\n",
      "It's processing 218 with name:miri\n",
      "It's processing 219 with name:bouna\n",
      "It's processing 220 with name:bethel\n",
      "It's processing 221 with name:key largo\n",
      "It's processing 222 with name:kuryk\n",
      "It's processing 223 with name:mosquera\n",
      "It's processing 224 with name:sao jose da coroa grande\n",
      "It's processing 225 with name:terekli-mekteb\n",
      "It's processing 226 with name:dakar\n",
      "It's processing 227 with name:araras\n",
      "It's processing 228 with name:kenai\n",
      "It's processing 229 with name:charlottesville\n",
      "It's processing 230 with name:sao filipe\n",
      "It's processing 231 with name:vila velha\n",
      "It's processing 232 with name:key west\n",
      "It's processing 233 with name:chiredzi\n",
      "It's processing 234 with name:kurilsk\n",
      "It's processing 235 with name:sorong\n",
      "It's processing 236 with name:andenes\n",
      "It's processing 237 with name:eyl\n",
      "It's processing 238 with name:colares\n",
      "It's processing 239 with name:gat\n",
      "It's processing 240 with name:gizo\n",
      "It's processing 241 with name:prince rupert\n",
      "It's processing 242 with name:nioki\n",
      "It's processing 243 with name:shasta lake\n",
      "It's processing 244 with name:rio gallegos\n",
      "It's processing 245 with name:riacho de santana\n",
      "It's processing 246 with name:nemuro\n",
      "It's processing 247 with name:kirakira\n",
      "It's processing 248 with name:rumonge\n",
      "It's processing 249 with name:poopo\n",
      "It's processing 250 with name:burnie\n",
      "It's processing 251 with name:oistins\n",
      "It's processing 252 with name:maragheh\n",
      "It's processing 253 with name:saint-augustin\n",
      "It's processing 254 with name:narsaq\n",
      "It's processing 255 with name:alice springs\n",
      "It's processing 256 with name:saleaula\n",
      "saleaula has no info.\n",
      "It's processing 257 with name:srednekolymsk\n",
      "It's processing 258 with name:castro\n",
      "It's processing 259 with name:pinawa\n",
      "It's processing 260 with name:yar-sale\n",
      "It's processing 261 with name:georgetown\n",
      "It's processing 262 with name:mount isa\n",
      "It's processing 263 with name:tsihombe\n",
      "tsihombe has no info.\n",
      "It's processing 264 with name:lorengau\n",
      "It's processing 265 with name:bulancak\n",
      "It's processing 266 with name:skjervoy\n",
      "It's processing 267 with name:huruta\n",
      "It's processing 268 with name:umzimvubu\n",
      "umzimvubu has no info.\n",
      "It's processing 269 with name:buala\n",
      "It's processing 270 with name:coquimbo\n",
      "It's processing 271 with name:medina\n",
      "It's processing 272 with name:jiazi\n",
      "It's processing 273 with name:port blair\n",
      "It's processing 274 with name:artigas\n",
      "It's processing 275 with name:galbshtadt\n",
      "It's processing 276 with name:lazaro cardenas\n",
      "It's processing 277 with name:pisco\n",
      "It's processing 278 with name:faanui\n",
      "It's processing 279 with name:ajaccio\n",
      "It's processing 280 with name:kandi\n",
      "It's processing 281 with name:madang\n",
      "It's processing 282 with name:pinar del rio\n",
      "It's processing 283 with name:bayir\n",
      "It's processing 284 with name:grindavik\n",
      "It's processing 285 with name:harper\n",
      "It's processing 286 with name:sao gabriel da cachoeira\n",
      "It's processing 287 with name:esperance\n",
      "It's processing 288 with name:mitsamiouli\n",
      "It's processing 289 with name:jiblah\n",
      "It's processing 290 with name:prince george\n",
      "It's processing 291 with name:darhan\n",
      "It's processing 292 with name:camalu\n",
      "It's processing 293 with name:iqaluit\n",
      "It's processing 294 with name:jian\n",
      "It's processing 295 with name:kondinskoye\n",
      "It's processing 296 with name:basco\n",
      "It's processing 297 with name:reconquista\n",
      "It's processing 298 with name:gornyy\n",
      "It's processing 299 with name:sarkand\n",
      "It's processing 300 with name:krasnoselkup\n",
      "It's processing 301 with name:altay\n",
      "It's processing 302 with name:mandla\n",
      "It's processing 303 with name:listowel\n",
      "It's processing 304 with name:xining\n",
      "It's processing 305 with name:alyangula\n",
      "It's processing 306 with name:peace river\n",
      "It's processing 307 with name:bengkulu\n",
      "It's processing 308 with name:surovikino\n",
      "It's processing 309 with name:torrijos\n",
      "It's processing 310 with name:hobyo\n",
      "It's processing 311 with name:talnakh\n",
      "It's processing 312 with name:ampanihy\n",
      "It's processing 313 with name:dandong\n",
      "It's processing 314 with name:pocatello\n",
      "It's processing 315 with name:samusu\n",
      "samusu has no info.\n",
      "It's processing 316 with name:alofi\n",
      "It's processing 317 with name:almaznyy\n",
      "It's processing 318 with name:louisbourg\n",
      "louisbourg has no info.\n",
      "It's processing 319 with name:panaba\n",
      "It's processing 320 with name:shchors\n",
      "It's processing 321 with name:karratha\n",
      "It's processing 322 with name:roros\n",
      "It's processing 323 with name:uddevalla\n",
      "It's processing 324 with name:ahipara\n",
      "It's processing 325 with name:ostrovnoy\n",
      "It's processing 326 with name:lucapa\n",
      "It's processing 327 with name:sambava\n",
      "It's processing 328 with name:superior\n",
      "It's processing 329 with name:dudinka\n",
      "It's processing 330 with name:vanimo\n",
      "It's processing 331 with name:honiara\n",
      "It's processing 332 with name:siguiri\n",
      "It's processing 333 with name:guicheng\n",
      "guicheng has no info.\n",
      "It's processing 334 with name:killybegs\n",
      "It's processing 335 with name:meridian\n",
      "It's processing 336 with name:outlook\n",
      "It's processing 337 with name:hoopstad\n",
      "It's processing 338 with name:witu\n",
      "It's processing 339 with name:cabo san lucas\n",
      "It's processing 340 with name:aluksne\n",
      "It's processing 341 with name:florencia\n",
      "It's processing 342 with name:ngukurr\n",
      "ngukurr has no info.\n",
      "It's processing 343 with name:beloha\n",
      "It's processing 344 with name:pitimbu\n",
      "It's processing 345 with name:jalu\n",
      "It's processing 346 with name:jiwani\n",
      "It's processing 347 with name:kaitangata\n",
      "It's processing 348 with name:castelldefels\n",
      "It's processing 349 with name:bur gabo\n",
      "bur gabo has no info.\n",
      "It's processing 350 with name:leshan\n",
      "It's processing 351 with name:ribeirao\n",
      "It's processing 352 with name:sigli\n",
      "It's processing 353 with name:severo-kurilsk\n",
      "It's processing 354 with name:ceres\n",
      "It's processing 355 with name:olinda\n",
      "It's processing 356 with name:bonavista\n",
      "It's processing 357 with name:tiarei\n",
      "It's processing 358 with name:mfou\n",
      "It's processing 359 with name:bintulu\n",
      "It's processing 360 with name:yomitan\n",
      "yomitan has no info.\n",
      "It's processing 361 with name:karaul\n",
      "karaul has no info.\n",
      "It's processing 362 with name:kavieng\n",
      "It's processing 363 with name:tehuantepec\n",
      "tehuantepec has no info.\n",
      "It's processing 364 with name:derzhavinsk\n",
      "It's processing 365 with name:rock sound\n",
      "It's processing 366 with name:paraiso\n",
      "It's processing 367 with name:kahului\n",
      "It's processing 368 with name:south venice\n",
      "It's processing 369 with name:bambous virieux\n",
      "It's processing 370 with name:qaqortoq\n",
      "It's processing 371 with name:morant bay\n",
      "It's processing 372 with name:udachnyy\n",
      "It's processing 373 with name:tsentralnyy\n",
      "tsentralnyy has no info.\n",
      "It's processing 374 with name:takoradi\n",
      "It's processing 375 with name:mount darwin\n",
      "It's processing 376 with name:khash\n",
      "It's processing 377 with name:arcata\n",
      "It's processing 378 with name:lethem\n",
      "It's processing 379 with name:urozhaynoye\n",
      "It's processing 380 with name:rozivka\n",
      "It's processing 381 with name:callaguip\n",
      "It's processing 382 with name:winnemucca\n",
      "It's processing 383 with name:tasiilaq\n",
      "It's processing 384 with name:mocambique\n",
      "mocambique has no info.\n",
      "It's processing 385 with name:husavik\n",
      "It's processing 386 with name:carnduff\n",
      "It's processing 387 with name:kalemie\n",
      "It's processing 388 with name:buariki\n",
      "buariki has no info.\n",
      "It's processing 389 with name:saint-georges\n",
      "It's processing 390 with name:mao\n",
      "It's processing 391 with name:vaasa\n",
      "It's processing 392 with name:guerrero negro\n",
      "It's processing 393 with name:kanakapura\n",
      "It's processing 394 with name:kuusamo\n",
      "It's processing 395 with name:hun\n",
      "It's processing 396 with name:tumannyy\n",
      "tumannyy has no info.\n"
     ]
    },
    {
     "name": "stdout",
     "output_type": "stream",
     "text": [
      "It's processing 397 with name:vardo\n",
      "It's processing 398 with name:saryshagan\n",
      "saryshagan has no info.\n",
      "It's processing 399 with name:verkhoyansk\n",
      "It's processing 400 with name:hambantota\n",
      "It's processing 401 with name:mahebourg\n",
      "It's processing 402 with name:chenzhou\n",
      "It's processing 403 with name:paamiut\n",
      "It's processing 404 with name:talas\n",
      "It's processing 405 with name:paceco\n",
      "It's processing 406 with name:mizdah\n",
      "It's processing 407 with name:ketchikan\n",
      "It's processing 408 with name:marang\n",
      "It's processing 409 with name:viedma\n",
      "It's processing 410 with name:forest lake\n",
      "It's processing 411 with name:puerto del rosario\n",
      "It's processing 412 with name:scarborough\n",
      "It's processing 413 with name:tarakan\n",
      "It's processing 414 with name:williams lake\n",
      "It's processing 415 with name:ozernovskiy\n",
      "It's processing 416 with name:villazon\n",
      "It's processing 417 with name:traverse city\n",
      "It's processing 418 with name:sept-iles\n",
      "It's processing 419 with name:whitehorse\n",
      "It's processing 420 with name:savannah bight\n",
      "It's processing 421 with name:coalcoman\n",
      "coalcoman has no info.\n",
      "It's processing 422 with name:lyuban\n",
      "It's processing 423 with name:zomin\n",
      "It's processing 424 with name:niwari\n",
      "It's processing 425 with name:maceio\n",
      "It's processing 426 with name:bougouni\n",
      "It's processing 427 with name:yagodnoye\n",
      "It's processing 428 with name:chulym\n",
      "It's processing 429 with name:aykhal\n",
      "It's processing 430 with name:apt\n",
      "It's processing 431 with name:howard springs\n",
      "It's processing 432 with name:aflu\n",
      "aflu has no info.\n",
      "It's processing 433 with name:lata\n",
      "It's processing 434 with name:leshukonskoye\n",
      "It's processing 435 with name:tongchuan\n",
      "It's processing 436 with name:nargana\n",
      "It's processing 437 with name:kawana waters\n",
      "kawana waters has no info.\n",
      "It's processing 438 with name:buraydah\n",
      "It's processing 439 with name:vila franca do campo\n",
      "It's processing 440 with name:avera\n",
      "It's processing 441 with name:meulaboh\n",
      "It's processing 442 with name:coahuayana\n",
      "It's processing 443 with name:hasaki\n",
      "It's processing 444 with name:olafsvik\n",
      "It's processing 445 with name:gamba\n",
      "It's processing 446 with name:butembo\n",
      "It's processing 447 with name:camopi\n",
      "It's processing 448 with name:los llanos de aridane\n",
      "It's processing 449 with name:bolshegrivskoye\n",
      "bolshegrivskoye has no info.\n",
      "It's processing 450 with name:bakchar\n",
      "It's processing 451 with name:sawakin\n",
      "It's processing 452 with name:minab\n",
      "It's processing 453 with name:kalamnuri\n",
      "It's processing 454 with name:eganville\n",
      "It's processing 455 with name:estreito\n",
      "It's processing 456 with name:urcos\n",
      "It's processing 457 with name:te anau\n",
      "It's processing 458 with name:wulanhaote\n",
      "wulanhaote has no info.\n",
      "It's processing 459 with name:makakilo city\n",
      "It's processing 460 with name:russell\n",
      "It's processing 461 with name:pervomayskoye\n",
      "It's processing 462 with name:manzhouli\n",
      "It's processing 463 with name:chatham\n",
      "It's processing 464 with name:mandurah\n",
      "It's processing 465 with name:almenara\n",
      "It's processing 466 with name:aksu\n",
      "It's processing 467 with name:cairns\n",
      "It's processing 468 with name:komsomolskiy\n",
      "It's processing 469 with name:herat\n",
      "It's processing 470 with name:brownwood\n",
      "It's processing 471 with name:maldonado\n",
      "It's processing 472 with name:kashiwazaki\n",
      "It's processing 473 with name:bijapur\n",
      "It's processing 474 with name:sao joao da barra\n",
      "It's processing 475 with name:deniliquin\n",
      "It's processing 476 with name:lavrentiya\n",
      "It's processing 477 with name:ilulissat\n",
      "It's processing 478 with name:san isidro\n",
      "It's processing 479 with name:the valley\n",
      "It's processing 480 with name:kaura namoda\n",
      "It's processing 481 with name:luderitz\n",
      "It's processing 482 with name:trinidad\n",
      "It's processing 483 with name:hailar\n",
      "It's processing 484 with name:eureka\n",
      "It's processing 485 with name:nagutskoye\n",
      "It's processing 486 with name:salta\n",
      "It's processing 487 with name:baniyas\n",
      "It's processing 488 with name:piney green\n",
      "It's processing 489 with name:honningsvag\n",
      "It's processing 490 with name:maine-soroa\n",
      "It's processing 491 with name:ambilobe\n",
      "It's processing 492 with name:ust-nera\n",
      "It's processing 493 with name:kolosovka\n",
      "It's processing 494 with name:buarcos\n",
      "It's processing 495 with name:qandala\n",
      "It's processing 496 with name:big rapids\n",
      "It's processing 497 with name:zaranj\n",
      "It's processing 498 with name:metamorfosis\n",
      "metamorfosis has no info.\n",
      "It's processing 499 with name:gravdal\n",
      "It's processing 500 with name:vao\n",
      "It's processing 501 with name:jiuquan\n",
      "It's processing 502 with name:santa maria\n",
      "It's processing 503 with name:ulaanbaatar\n",
      "It's processing 504 with name:tiznit\n",
      "It's processing 505 with name:kilindoni\n",
      "It's processing 506 with name:paluan\n",
      "It's processing 507 with name:riyadh\n",
      "It's processing 508 with name:baykit\n",
      "It's processing 509 with name:turukhansk\n",
      "It's processing 510 with name:neya\n",
      "It's processing 511 with name:irbil\n",
      "It's processing 512 with name:mwaro\n",
      "It's processing 513 with name:san juan\n",
      "It's processing 514 with name:aljezur\n",
      "It's processing 515 with name:bilibino\n",
      "It's processing 516 with name:abu zabad\n",
      "It's processing 517 with name:syracuse\n",
      "It's processing 518 with name:saint john\n",
      "It's processing 519 with name:launceston\n",
      "It's processing 520 with name:amnat charoen\n",
      "It's processing 521 with name:cocorit\n",
      "It's processing 522 with name:nangong\n",
      "It's processing 523 with name:maltahohe\n",
      "It's processing 524 with name:wynyard\n",
      "It's processing 525 with name:gulshat\n",
      "gulshat has no info.\n",
      "It's processing 526 with name:tambovka\n",
      "It's processing 527 with name:umm kaddadah\n",
      "It's processing 528 with name:rondonopolis\n",
      "It's processing 529 with name:yeovil\n",
      "It's processing 530 with name:kirkwall\n",
      "It's processing 531 with name:mount gambier\n",
      "It's processing 532 with name:gustavo diaz ordaz\n",
      "It's processing 533 with name:acapulco\n",
      "It's processing 534 with name:de land\n",
      "It's processing 535 with name:rancho santa margarita\n",
      "It's processing 536 with name:kachikau\n",
      "kachikau has no info.\n",
      "It's processing 537 with name:santiago del estero\n",
      "It's processing 538 with name:usinsk\n",
      "It's processing 539 with name:kaeo\n",
      "It's processing 540 with name:san quintin\n",
      "It's processing 541 with name:pasni\n",
      "It's processing 542 with name:cortez\n",
      "It's processing 543 with name:maniitsoq\n",
      "It's processing 544 with name:half moon bay\n",
      "It's processing 545 with name:utiroa\n",
      "utiroa has no info.\n",
      "It's processing 546 with name:sindor\n",
      "It's processing 547 with name:ubinskoye\n",
      "It's processing 548 with name:gao\n",
      "It's processing 549 with name:bairiki\n",
      "It's processing 550 with name:sosnovo-ozerskoye\n",
      "It's processing 551 with name:nova olinda do norte\n",
      "It's processing 552 with name:nechi\n",
      "It's processing 553 with name:kyra\n",
      "It's processing 554 with name:vigrestad\n",
      "It's processing 555 with name:rundu\n",
      "It's processing 556 with name:jibuti\n",
      "It's processing 557 with name:hit\n",
      "It's processing 558 with name:ekibastuz\n",
      "It's processing 559 with name:gboko\n",
      "It's processing 560 with name:tarudant\n",
      "tarudant has no info.\n",
      "It's processing 561 with name:nizhniy kuranakh\n",
      "It's processing 562 with name:marysville\n",
      "It's processing 563 with name:vrangel\n",
      "It's processing 564 with name:samarai\n",
      "It's processing 565 with name:jinchengjiang\n",
      "jinchengjiang has no info.\n",
      "It's processing 566 with name:dmitriyevskaya\n",
      "It's processing 567 with name:ayagoz\n",
      "It's processing 568 with name:bac lieu\n",
      "It's processing 569 with name:necochea\n",
      "It's processing 570 with name:segbwema\n",
      "It's processing 571 with name:ondjiva\n",
      "It's processing 572 with name:fukue\n",
      "It's processing 573 with name:kamenka\n",
      "It's processing 574 with name:port-cartier\n",
      "It's processing 575 with name:jiroft\n",
      "jiroft has no info.\n",
      "It's processing 576 with name:emerald\n",
      "It's processing 577 with name:marzuq\n",
      "It's processing 578 with name:bluefields\n",
      "It's processing 579 with name:boende\n",
      "It's processing 580 with name:broken hill\n",
      "It's processing 581 with name:north myrtle beach\n",
      "It's processing 582 with name:bandiagara\n",
      "It's processing 583 with name:havre-saint-pierre\n",
      "It's processing 584 with name:auraiya\n",
      "It's processing 585 with name:mayo\n",
      "It's processing 586 with name:palabuhanratu\n",
      "palabuhanratu has no info.\n",
      "It's processing 587 with name:kwekwe\n",
      "It's processing 588 with name:rawson\n",
      "It's processing 589 with name:barbar\n",
      "barbar has no info.\n",
      "It's processing 590 with name:stettler\n",
      "It's processing 591 with name:fort nelson\n",
      "It's processing 592 with name:chumikan\n",
      "It's processing 593 with name:praia\n",
      "It's processing 594 with name:richards bay\n"
     ]
    },
    {
     "name": "stdout",
     "output_type": "stream",
     "text": [
      "It's processing 595 with name:poum\n",
      "It's processing 596 with name:magrath\n",
      "It's processing 597 with name:port augusta\n",
      "It's processing 598 with name:kovdor\n",
      "It's processing 599 with name:grammichele\n",
      "It's processing 600 with name:maragogi\n",
      "It's processing 601 with name:poddorye\n",
      "It's processing 602 with name:labuan\n",
      "It's processing 603 with name:bayji\n",
      "It's processing 604 with name:estevan\n",
      "It's processing 605 with name:maebaru\n",
      "It's processing 606 with name:antofagasta\n",
      "It's processing 607 with name:terney\n",
      "It's processing 608 with name:pacific grove\n",
      "It's processing 609 with name:coaldale\n",
      "It's processing 610 with name:kobojango\n",
      "kobojango has no info.\n",
      "It's processing 611 with name:choix\n",
      "It's processing 612 with name:hokitika\n",
      "It's processing 613 with name:wagar\n",
      "It's processing 614 with name:samana\n",
      "It's processing 615 with name:batagay\n",
      "It's processing 616 with name:aripuana\n",
      "It's processing 617 with name:mabaruma\n",
      "It's processing 618 with name:gorontalo\n"
     ]
    }
   ],
   "source": [
    "url = \"https://api.openweathermap.org/data/2.5/weather?appid=\" + weather_api_key\n",
    "units = \"imperial\"\n",
    "\n",
    "city_temp_info = []\n",
    "city_number = 0\n",
    "\n",
    "print(\"Start logging\")\n",
    "\n",
    "for city in cities:\n",
    "    city_url = f\"{url}&q={city}&units={units}\"\n",
    "    try:\n",
    "        \n",
    "        response = requests.get(city_url).json()\n",
    "        print(f\"It's processing {city_number} with name:{city}\")\n",
    "    #     pprint.pprint(response)\n",
    "        weather=[]\n",
    "        weather.append(city)\n",
    "        weather.append(response[\"coord\"]['lat'])\n",
    "        weather.append(response[\"coord\"]['lon'])\n",
    "        weather.append(response[\"main\"][\"temp\"])\n",
    "        weather.append(response[\"main\"][\"humidity\"])\n",
    "        weather.append(response[\"clouds\"]['all'])\n",
    "        weather.append(response[\"wind\"]['speed'])\n",
    "        city_temp_info.append(weather)\n",
    "        city_number += 1\n",
    "    except:\n",
    "        print(f\"{city} has no info.\")\n",
    "        city_number += 1\n",
    "\n",
    "# print(city_temp_info)\n",
    "    "
   ]
  },
  {
   "cell_type": "markdown",
   "metadata": {},
   "source": [
    "### Convert Raw Data to DataFrame\n",
    "* Export the city data into a .csv.\n",
    "* Display the DataFrame"
   ]
  },
  {
   "cell_type": "code",
   "execution_count": 4,
   "metadata": {},
   "outputs": [
    {
     "data": {
      "text/html": [
       "<div>\n",
       "<style scoped>\n",
       "    .dataframe tbody tr th:only-of-type {\n",
       "        vertical-align: middle;\n",
       "    }\n",
       "\n",
       "    .dataframe tbody tr th {\n",
       "        vertical-align: top;\n",
       "    }\n",
       "\n",
       "    .dataframe thead th {\n",
       "        text-align: right;\n",
       "    }\n",
       "</style>\n",
       "<table border=\"1\" class=\"dataframe\">\n",
       "  <thead>\n",
       "    <tr style=\"text-align: right;\">\n",
       "      <th></th>\n",
       "      <th>City</th>\n",
       "      <th>Latitude</th>\n",
       "      <th>Longitude</th>\n",
       "      <th>Temperature(F)</th>\n",
       "      <th>Humidity(%)</th>\n",
       "      <th>Cloudiness(%)</th>\n",
       "      <th>Wind Speed(mph)</th>\n",
       "    </tr>\n",
       "  </thead>\n",
       "  <tbody>\n",
       "    <tr>\n",
       "      <th>0</th>\n",
       "      <td>rocha</td>\n",
       "      <td>-34.4833</td>\n",
       "      <td>-54.3333</td>\n",
       "      <td>57.96</td>\n",
       "      <td>95</td>\n",
       "      <td>79</td>\n",
       "      <td>6.55</td>\n",
       "    </tr>\n",
       "    <tr>\n",
       "      <th>1</th>\n",
       "      <td>strezhevoy</td>\n",
       "      <td>60.7333</td>\n",
       "      <td>77.5889</td>\n",
       "      <td>35.73</td>\n",
       "      <td>98</td>\n",
       "      <td>100</td>\n",
       "      <td>7.52</td>\n",
       "    </tr>\n",
       "    <tr>\n",
       "      <th>2</th>\n",
       "      <td>salalah</td>\n",
       "      <td>17.0151</td>\n",
       "      <td>54.0924</td>\n",
       "      <td>80.69</td>\n",
       "      <td>74</td>\n",
       "      <td>20</td>\n",
       "      <td>2.30</td>\n",
       "    </tr>\n",
       "    <tr>\n",
       "      <th>3</th>\n",
       "      <td>ushuaia</td>\n",
       "      <td>-54.8000</td>\n",
       "      <td>-68.3000</td>\n",
       "      <td>44.26</td>\n",
       "      <td>70</td>\n",
       "      <td>20</td>\n",
       "      <td>2.30</td>\n",
       "    </tr>\n",
       "    <tr>\n",
       "      <th>4</th>\n",
       "      <td>punta arenas</td>\n",
       "      <td>-53.1500</td>\n",
       "      <td>-70.9167</td>\n",
       "      <td>41.11</td>\n",
       "      <td>81</td>\n",
       "      <td>75</td>\n",
       "      <td>10.36</td>\n",
       "    </tr>\n",
       "    <tr>\n",
       "      <th>...</th>\n",
       "      <td>...</td>\n",
       "      <td>...</td>\n",
       "      <td>...</td>\n",
       "      <td>...</td>\n",
       "      <td>...</td>\n",
       "      <td>...</td>\n",
       "      <td>...</td>\n",
       "    </tr>\n",
       "    <tr>\n",
       "      <th>561</th>\n",
       "      <td>samana</td>\n",
       "      <td>19.2056</td>\n",
       "      <td>-69.3369</td>\n",
       "      <td>73.62</td>\n",
       "      <td>89</td>\n",
       "      <td>37</td>\n",
       "      <td>3.38</td>\n",
       "    </tr>\n",
       "    <tr>\n",
       "      <th>562</th>\n",
       "      <td>batagay</td>\n",
       "      <td>67.6333</td>\n",
       "      <td>134.6333</td>\n",
       "      <td>30.45</td>\n",
       "      <td>84</td>\n",
       "      <td>85</td>\n",
       "      <td>3.09</td>\n",
       "    </tr>\n",
       "    <tr>\n",
       "      <th>563</th>\n",
       "      <td>aripuana</td>\n",
       "      <td>-9.1667</td>\n",
       "      <td>-60.6333</td>\n",
       "      <td>72.75</td>\n",
       "      <td>97</td>\n",
       "      <td>90</td>\n",
       "      <td>0.36</td>\n",
       "    </tr>\n",
       "    <tr>\n",
       "      <th>564</th>\n",
       "      <td>mabaruma</td>\n",
       "      <td>8.2000</td>\n",
       "      <td>-59.7833</td>\n",
       "      <td>71.74</td>\n",
       "      <td>93</td>\n",
       "      <td>57</td>\n",
       "      <td>2.28</td>\n",
       "    </tr>\n",
       "    <tr>\n",
       "      <th>565</th>\n",
       "      <td>gorontalo</td>\n",
       "      <td>0.5412</td>\n",
       "      <td>123.0595</td>\n",
       "      <td>86.88</td>\n",
       "      <td>69</td>\n",
       "      <td>65</td>\n",
       "      <td>4.21</td>\n",
       "    </tr>\n",
       "  </tbody>\n",
       "</table>\n",
       "<p>566 rows × 7 columns</p>\n",
       "</div>"
      ],
      "text/plain": [
       "             City  Latitude  Longitude  Temperature(F)  Humidity(%)  \\\n",
       "0           rocha  -34.4833   -54.3333           57.96           95   \n",
       "1      strezhevoy   60.7333    77.5889           35.73           98   \n",
       "2         salalah   17.0151    54.0924           80.69           74   \n",
       "3         ushuaia  -54.8000   -68.3000           44.26           70   \n",
       "4    punta arenas  -53.1500   -70.9167           41.11           81   \n",
       "..            ...       ...        ...             ...          ...   \n",
       "561        samana   19.2056   -69.3369           73.62           89   \n",
       "562       batagay   67.6333   134.6333           30.45           84   \n",
       "563      aripuana   -9.1667   -60.6333           72.75           97   \n",
       "564      mabaruma    8.2000   -59.7833           71.74           93   \n",
       "565     gorontalo    0.5412   123.0595           86.88           69   \n",
       "\n",
       "     Cloudiness(%)  Wind Speed(mph)  \n",
       "0               79             6.55  \n",
       "1              100             7.52  \n",
       "2               20             2.30  \n",
       "3               20             2.30  \n",
       "4               75            10.36  \n",
       "..             ...              ...  \n",
       "561             37             3.38  \n",
       "562             85             3.09  \n",
       "563             90             0.36  \n",
       "564             57             2.28  \n",
       "565             65             4.21  \n",
       "\n",
       "[566 rows x 7 columns]"
      ]
     },
     "execution_count": 4,
     "metadata": {},
     "output_type": "execute_result"
    }
   ],
   "source": [
    "df = pd.DataFrame(city_temp_info)\n",
    "df.rename(columns={0:\"City\", 1:\"Latitude\", 2:\"Longitude\", 3:\"Temperature(F)\", 4:\"Humidity(%)\", 5:\"Cloudiness(%)\", 6:\"Wind Speed(mph)\"},inplace=True)\n",
    "df"
   ]
  },
  {
   "cell_type": "code",
   "execution_count": 5,
   "metadata": {},
   "outputs": [],
   "source": [
    "df.to_csv(output_data_file)"
   ]
  },
  {
   "cell_type": "markdown",
   "metadata": {},
   "source": [
    "## Inspect the data and remove the cities where the humidity > 100%.\n",
    "----\n",
    "Skip this step if there are no cities that have humidity > 100%. "
   ]
  },
  {
   "cell_type": "code",
   "execution_count": 6,
   "metadata": {},
   "outputs": [
    {
     "data": {
      "text/html": [
       "<div>\n",
       "<style scoped>\n",
       "    .dataframe tbody tr th:only-of-type {\n",
       "        vertical-align: middle;\n",
       "    }\n",
       "\n",
       "    .dataframe tbody tr th {\n",
       "        vertical-align: top;\n",
       "    }\n",
       "\n",
       "    .dataframe thead th {\n",
       "        text-align: right;\n",
       "    }\n",
       "</style>\n",
       "<table border=\"1\" class=\"dataframe\">\n",
       "  <thead>\n",
       "    <tr style=\"text-align: right;\">\n",
       "      <th></th>\n",
       "      <th>City</th>\n",
       "      <th>Latitude</th>\n",
       "      <th>Longitude</th>\n",
       "      <th>Temperature(F)</th>\n",
       "      <th>Humidity(%)</th>\n",
       "      <th>Cloudiness(%)</th>\n",
       "      <th>Wind Speed(mph)</th>\n",
       "    </tr>\n",
       "  </thead>\n",
       "  <tbody>\n",
       "    <tr>\n",
       "      <th>0</th>\n",
       "      <td>rocha</td>\n",
       "      <td>-34.4833</td>\n",
       "      <td>-54.3333</td>\n",
       "      <td>57.96</td>\n",
       "      <td>95</td>\n",
       "      <td>79</td>\n",
       "      <td>6.55</td>\n",
       "    </tr>\n",
       "    <tr>\n",
       "      <th>1</th>\n",
       "      <td>strezhevoy</td>\n",
       "      <td>60.7333</td>\n",
       "      <td>77.5889</td>\n",
       "      <td>35.73</td>\n",
       "      <td>98</td>\n",
       "      <td>100</td>\n",
       "      <td>7.52</td>\n",
       "    </tr>\n",
       "    <tr>\n",
       "      <th>2</th>\n",
       "      <td>salalah</td>\n",
       "      <td>17.0151</td>\n",
       "      <td>54.0924</td>\n",
       "      <td>80.69</td>\n",
       "      <td>74</td>\n",
       "      <td>20</td>\n",
       "      <td>2.30</td>\n",
       "    </tr>\n",
       "    <tr>\n",
       "      <th>3</th>\n",
       "      <td>ushuaia</td>\n",
       "      <td>-54.8000</td>\n",
       "      <td>-68.3000</td>\n",
       "      <td>44.26</td>\n",
       "      <td>70</td>\n",
       "      <td>20</td>\n",
       "      <td>2.30</td>\n",
       "    </tr>\n",
       "    <tr>\n",
       "      <th>4</th>\n",
       "      <td>punta arenas</td>\n",
       "      <td>-53.1500</td>\n",
       "      <td>-70.9167</td>\n",
       "      <td>41.11</td>\n",
       "      <td>81</td>\n",
       "      <td>75</td>\n",
       "      <td>10.36</td>\n",
       "    </tr>\n",
       "    <tr>\n",
       "      <th>...</th>\n",
       "      <td>...</td>\n",
       "      <td>...</td>\n",
       "      <td>...</td>\n",
       "      <td>...</td>\n",
       "      <td>...</td>\n",
       "      <td>...</td>\n",
       "      <td>...</td>\n",
       "    </tr>\n",
       "    <tr>\n",
       "      <th>561</th>\n",
       "      <td>samana</td>\n",
       "      <td>19.2056</td>\n",
       "      <td>-69.3369</td>\n",
       "      <td>73.62</td>\n",
       "      <td>89</td>\n",
       "      <td>37</td>\n",
       "      <td>3.38</td>\n",
       "    </tr>\n",
       "    <tr>\n",
       "      <th>562</th>\n",
       "      <td>batagay</td>\n",
       "      <td>67.6333</td>\n",
       "      <td>134.6333</td>\n",
       "      <td>30.45</td>\n",
       "      <td>84</td>\n",
       "      <td>85</td>\n",
       "      <td>3.09</td>\n",
       "    </tr>\n",
       "    <tr>\n",
       "      <th>563</th>\n",
       "      <td>aripuana</td>\n",
       "      <td>-9.1667</td>\n",
       "      <td>-60.6333</td>\n",
       "      <td>72.75</td>\n",
       "      <td>97</td>\n",
       "      <td>90</td>\n",
       "      <td>0.36</td>\n",
       "    </tr>\n",
       "    <tr>\n",
       "      <th>564</th>\n",
       "      <td>mabaruma</td>\n",
       "      <td>8.2000</td>\n",
       "      <td>-59.7833</td>\n",
       "      <td>71.74</td>\n",
       "      <td>93</td>\n",
       "      <td>57</td>\n",
       "      <td>2.28</td>\n",
       "    </tr>\n",
       "    <tr>\n",
       "      <th>565</th>\n",
       "      <td>gorontalo</td>\n",
       "      <td>0.5412</td>\n",
       "      <td>123.0595</td>\n",
       "      <td>86.88</td>\n",
       "      <td>69</td>\n",
       "      <td>65</td>\n",
       "      <td>4.21</td>\n",
       "    </tr>\n",
       "  </tbody>\n",
       "</table>\n",
       "<p>566 rows × 7 columns</p>\n",
       "</div>"
      ],
      "text/plain": [
       "             City  Latitude  Longitude  Temperature(F)  Humidity(%)  \\\n",
       "0           rocha  -34.4833   -54.3333           57.96           95   \n",
       "1      strezhevoy   60.7333    77.5889           35.73           98   \n",
       "2         salalah   17.0151    54.0924           80.69           74   \n",
       "3         ushuaia  -54.8000   -68.3000           44.26           70   \n",
       "4    punta arenas  -53.1500   -70.9167           41.11           81   \n",
       "..            ...       ...        ...             ...          ...   \n",
       "561        samana   19.2056   -69.3369           73.62           89   \n",
       "562       batagay   67.6333   134.6333           30.45           84   \n",
       "563      aripuana   -9.1667   -60.6333           72.75           97   \n",
       "564      mabaruma    8.2000   -59.7833           71.74           93   \n",
       "565     gorontalo    0.5412   123.0595           86.88           69   \n",
       "\n",
       "     Cloudiness(%)  Wind Speed(mph)  \n",
       "0               79             6.55  \n",
       "1              100             7.52  \n",
       "2               20             2.30  \n",
       "3               20             2.30  \n",
       "4               75            10.36  \n",
       "..             ...              ...  \n",
       "561             37             3.38  \n",
       "562             85             3.09  \n",
       "563             90             0.36  \n",
       "564             57             2.28  \n",
       "565             65             4.21  \n",
       "\n",
       "[566 rows x 7 columns]"
      ]
     },
     "execution_count": 6,
     "metadata": {},
     "output_type": "execute_result"
    }
   ],
   "source": [
    "#  Get the indices of cities that have humidity over 100%.\n",
    "# Make a new DataFrame equal to the city data to drop all humidity outliers by index.\n",
    "# Passing \"inplace=False\" will make a copy of the city_data DataFrame, which we call \"clean_city_data\".\n",
    "clean_city_data = df.loc[(df[\"Humidity(%)\"]<=100)]\n",
    "clean_city_data"
   ]
  },
  {
   "cell_type": "markdown",
   "metadata": {},
   "source": [
    "## Plotting the Data\n",
    "* Use proper labeling of the plots using plot titles (including date of analysis) and axes labels.\n",
    "* Save the plotted figures as .pngs."
   ]
  },
  {
   "cell_type": "markdown",
   "metadata": {},
   "source": [
    "## Latitude vs. Temperature Plot"
   ]
  },
  {
   "cell_type": "code",
   "execution_count": 7,
   "metadata": {
    "scrolled": true
   },
   "outputs": [
    {
     "data": {
      "image/png": "[encoded data removed]",
      "text/plain": [
       "<Figure size 432x288 with 1 Axes>"
      ]
     },
     "metadata": {
      "needs_background": "light"
     },
     "output_type": "display_data"
    },
    {
     "name": "stdout",
     "output_type": "stream",
     "text": [
      "The plot is showing the relationship between Temperature(F) and Latitude of each city.\n"
     ]
    }
   ],
   "source": [
    "plt.scatter(clean_city_data[\"Latitude\"],clean_city_data[\"Temperature(F)\"])\n",
    "plt.xlabel(\"Latitude\")\n",
    "plt.ylabel(\"Temperature(F)\")\n",
    "plt.title(\"Temperature(F) vs Latitude\")\n",
    "plt.show()\n",
    "print(\"The plot is showing the relationship between Temperature(F) and Latitude of each city.\")"
   ]
  },
  {
   "cell_type": "markdown",
   "metadata": {},
   "source": [
    "## Latitude vs. Humidity Plot"
   ]
  },
  {
   "cell_type": "code",
   "execution_count": 8,
   "metadata": {},
   "outputs": [
    {
     "data": {
      "image/png": "[encoded data removed]",
      "text/plain": [
       "<Figure size 432x288 with 1 Axes>"
      ]
     },
     "metadata": {
      "needs_background": "light"
     },
     "output_type": "display_data"
    },
    {
     "name": "stdout",
     "output_type": "stream",
     "text": [
      "The plot is showing the relationship between Humidity(%) and Latitude of each city.\n"
     ]
    }
   ],
   "source": [
    "plt.scatter(clean_city_data[\"Latitude\"],clean_city_data[\"Humidity(%)\"])\n",
    "plt.xlabel(\"Latitude\")\n",
    "plt.ylabel(\"Humidity(%)\")\n",
    "plt.title(\"Humidity(%) vs Latitude\")\n",
    "plt.show()\n",
    "print(\"The plot is showing the relationship between Humidity(%) and Latitude of each city.\")"
   ]
  },
  {
   "cell_type": "markdown",
   "metadata": {},
   "source": [
    "## Latitude vs. Cloudiness Plot"
   ]
  },
  {
   "cell_type": "code",
   "execution_count": 9,
   "metadata": {},
   "outputs": [
    {
     "data": {
      "image/png": "[encoded data removed]",
      "text/plain": [
       "<Figure size 432x288 with 1 Axes>"
      ]
     },
     "metadata": {
      "needs_background": "light"
     },
     "output_type": "display_data"
    },
    {
     "name": "stdout",
     "output_type": "stream",
     "text": [
      "The plot is showing the relationship between Cloudiness(%) and Latitude of each city.From the look of the plot, it doesn't appear to be any relationships between the two variables.\n"
     ]
    }
   ],
   "source": [
    "plt.scatter(clean_city_data[\"Latitude\"],clean_city_data[\"Cloudiness(%)\"])\n",
    "plt.xlabel(\"Latitude\")\n",
    "plt.ylabel(\"Cloudiness(%)\")\n",
    "plt.title(\"Cloudiness(%) vs Latitude\")\n",
    "plt.show()\n",
    "print(\"The plot is showing the relationship between Cloudiness(%) and Latitude of each city.From the look of the plot, it doesn't appear to be any relationships between the two variables.\")"
   ]
  },
  {
   "cell_type": "markdown",
   "metadata": {},
   "source": [
    "## Latitude vs. Wind Speed Plot"
   ]
  },
  {
   "cell_type": "code",
   "execution_count": 10,
   "metadata": {},
   "outputs": [
    {
     "data": {
      "image/png": "[encoded data removed]",
      "text/plain": [
       "<Figure size 432x288 with 1 Axes>"
      ]
     },
     "metadata": {
      "needs_background": "light"
     },
     "output_type": "display_data"
    },
    {
     "name": "stdout",
     "output_type": "stream",
     "text": [
      "The plot is showing the relationship between Wind Speed(mph) and Latitude of each city.\n"
     ]
    }
   ],
   "source": [
    "plt.scatter(clean_city_data[\"Latitude\"],clean_city_data[\"Wind Speed(mph)\"])\n",
    "plt.xlabel(\"Latitude\")\n",
    "plt.ylabel(\"CWind Speed(mph)\")\n",
    "plt.title(\"Wind Speed(mph) vs Latitude\")\n",
    "plt.show()\n",
    "print(\"The plot is showing the relationship between Wind Speed(mph) and Latitude of each city.\")"
   ]
  },
  {
   "cell_type": "markdown",
   "metadata": {},
   "source": [
    "## Linear Regression\n",
    "####  Northern Hemisphere - Temp vs. Latitude Linear Regression"
   ]
  },
  {
   "cell_type": "code",
   "execution_count": 11,
   "metadata": {},
   "outputs": [
    {
     "name": "stdout",
     "output_type": "stream",
     "text": [
      "The r-value is: -0.8794096185969783\n"
     ]
    },
    {
     "data": {
      "image/png": "[encoded data removed]",
      "text/plain": [
       "<Figure size 432x288 with 1 Axes>"
      ]
     },
     "metadata": {
      "needs_background": "light"
     },
     "output_type": "display_data"
    }
   ],
   "source": [
    "Northern_data = clean_city_data.loc[(clean_city_data[\"Latitude\"]>=0)]\n",
    "Southern_data = clean_city_data.loc[(clean_city_data[\"Latitude\"]<0)]\n",
    "x_values = Northern_data[\"Latitude\"]\n",
    "y_values = Northern_data[\"Temperature(F)\"]\n",
    "(slope, intercept, rvalue, pvalue, stderr) = linregress(x_values, y_values)\n",
    "regress_values = x_values * slope + intercept\n",
    "line_eq = \"y = \" + str(round(slope,2)) + \"x + \" + str(round(intercept,2))\n",
    "plt.scatter(x_values, y_values)\n",
    "plt.xlabel(\"Latitude\")\n",
    "plt.ylabel(\"Temperature(F)\")\n",
    "plt.title(\"Northern Hemisphere - Temp vs Latitude Linear Regression\")\n",
    "plt.plot(x_values, regress_values, \"r-\")\n",
    "plt.annotate(line_eq, (5,5), fontsize=15, color=\"red\")\n",
    "print(f\"The r-value is: {rvalue}\")"
   ]
  },
  {
   "cell_type": "markdown",
   "metadata": {},
   "source": [
    "####  Southern Hemisphere - Temp vs. Latitude Linear Regression"
   ]
  },
  {
   "cell_type": "code",
   "execution_count": 12,
   "metadata": {},
   "outputs": [
    {
     "name": "stdout",
     "output_type": "stream",
     "text": [
      "The r-value is: 0.5632978035551113\n"
     ]
    },
    {
     "data": {
      "image/png": "[encoded data removed]",
      "text/plain": [
       "<Figure size 432x288 with 1 Axes>"
      ]
     },
     "metadata": {
      "needs_background": "light"
     },
     "output_type": "display_data"
    }
   ],
   "source": [
    "x_values = Southern_data[\"Latitude\"]\n",
    "y_values = Southern_data[\"Temperature(F)\"]\n",
    "(slope, intercept, rvalue, pvalue, stderr) = linregress(x_values, y_values)\n",
    "regress_values = x_values * slope + intercept\n",
    "line_eq = \"y = \" + str(round(slope,2)) + \"x + \" + str(round(intercept,2))\n",
    "plt.scatter(x_values, y_values)\n",
    "plt.xlabel(\"Latitude\")\n",
    "plt.ylabel(\"Temperature(F)\")\n",
    "plt.title(\"Southern Hemisphere - Temp vs Latitude Linear Regression\")\n",
    "plt.plot(x_values, regress_values, \"r-\")\n",
    "plt.annotate(line_eq, (-30,45), fontsize=15, color=\"red\")\n",
    "print(f\"The r-value is: {rvalue}\")"
   ]
  },
  {
   "cell_type": "markdown",
   "metadata": {},
   "source": []
  },
  {
   "cell_type": "code",
   "execution_count": null,
   "metadata": {},
   "outputs": [],
   "source": []
  },
  {
   "cell_type": "markdown",
   "metadata": {},
   "source": [
    "####  Northern Hemisphere - Humidity (%) vs. Latitude Linear Regression"
   ]
  },
  {
   "cell_type": "code",
   "execution_count": 13,
   "metadata": {},
   "outputs": [
    {
     "name": "stdout",
     "output_type": "stream",
     "text": [
      "The r-value is: 0.20916382734722808\n"
     ]
    },
    {
     "data": {
      "image/png": "[encoded data removed]",
      "text/plain": [
       "<Figure size 432x288 with 1 Axes>"
      ]
     },
     "metadata": {
      "needs_background": "light"
     },
     "output_type": "display_data"
    }
   ],
   "source": [
    "x_values = Northern_data[\"Latitude\"]\n",
    "y_values = Northern_data[\"Humidity(%)\"]\n",
    "(slope, intercept, rvalue, pvalue, stderr) = linregress(x_values, y_values)\n",
    "regress_values = x_values * slope + intercept\n",
    "line_eq = \"y = \" + str(round(slope,2)) + \"x + \" + str(round(intercept,2))\n",
    "plt.scatter(x_values, y_values)\n",
    "plt.xlabel(\"Latitude\")\n",
    "plt.ylabel(\"Humidity(%)\")\n",
    "plt.title(\"Northern Hemisphere - Humidity(%) vs Latitude Linear Regression\")\n",
    "plt.plot(x_values, regress_values, \"r-\")\n",
    "plt.annotate(line_eq, (60,30), fontsize=15, color=\"red\")\n",
    "print(f\"The r-value is: {rvalue}\")"
   ]
  },
  {
   "cell_type": "markdown",
   "metadata": {},
   "source": [
    "####  Southern Hemisphere - Humidity (%) vs. Latitude Linear Regression"
   ]
  },
  {
   "cell_type": "code",
   "execution_count": 14,
   "metadata": {},
   "outputs": [
    {
     "name": "stdout",
     "output_type": "stream",
     "text": [
      "The r-value is: 0.3075102917168129\n"
     ]
    },
    {
     "data": {
      "image/png": "[encoded data removed]",
      "text/plain": [
       "<Figure size 432x288 with 1 Axes>"
      ]
     },
     "metadata": {
      "needs_background": "light"
     },
     "output_type": "display_data"
    }
   ],
   "source": [
    "x_values = Southern_data[\"Latitude\"]\n",
    "y_values = Southern_data[\"Humidity(%)\"]\n",
    "(slope, intercept, rvalue, pvalue, stderr) = linregress(x_values, y_values)\n",
    "regress_values = x_values * slope + intercept\n",
    "line_eq = \"y = \" + str(round(slope,2)) + \"x + \" + str(round(intercept,2))\n",
    "plt.scatter(x_values, y_values)\n",
    "plt.xlabel(\"Latitude\")\n",
    "plt.ylabel(\"Humidity(%)\")\n",
    "plt.title(\"Southern Hemisphere - Humidity(%) vs Latitude Linear Regression\")\n",
    "plt.plot(x_values, regress_values, \"r-\")\n",
    "plt.annotate(line_eq, (-30,20), fontsize=15, color=\"red\")\n",
    "print(f\"The r-value is: {rvalue}\")"
   ]
  },
  {
   "cell_type": "markdown",
   "metadata": {},
   "source": [
    "####  Northern Hemisphere - Cloudiness (%) vs. Latitude Linear Regression"
   ]
  },
  {
   "cell_type": "code",
   "execution_count": 15,
   "metadata": {},
   "outputs": [
    {
     "name": "stdout",
     "output_type": "stream",
     "text": [
      "The r-value is: 0.12075678177809465\n"
     ]
    },
    {
     "data": {
      "image/png": "[encoded data removed]",
      "text/plain": [
       "<Figure size 432x288 with 1 Axes>"
      ]
     },
     "metadata": {
      "needs_background": "light"
     },
     "output_type": "display_data"
    }
   ],
   "source": [
    "x_values = Northern_data[\"Latitude\"]\n",
    "y_values = Northern_data[\"Cloudiness(%)\"]\n",
    "(slope, intercept, rvalue, pvalue, stderr) = linregress(x_values, y_values)\n",
    "regress_values = x_values * slope + intercept\n",
    "line_eq = \"y = \" + str(round(slope,2)) + \"x + \" + str(round(intercept,2))\n",
    "plt.scatter(x_values, y_values)\n",
    "plt.xlabel(\"Latitude\")\n",
    "plt.ylabel(\"Cloudiness(%)\")\n",
    "plt.title(\"Northern Hemisphere - Cloudiness(%) vs Latitude Linear Regression\")\n",
    "plt.plot(x_values, regress_values, \"r-\")\n",
    "plt.annotate(line_eq, (30,30), fontsize=15, color=\"red\")\n",
    "print(f\"The r-value is: {rvalue}\")"
   ]
  },
  {
   "cell_type": "markdown",
   "metadata": {},
   "source": [
    "####  Southern Hemisphere - Cloudiness (%) vs. Latitude Linear Regression"
   ]
  },
  {
   "cell_type": "code",
   "execution_count": 16,
   "metadata": {},
   "outputs": [
    {
     "name": "stdout",
     "output_type": "stream",
     "text": [
      "The r-value is: 0.24234590778269555\n"
     ]
    },
    {
     "data": {
      "image/png": "[encoded data removed]",
      "text/plain": [
       "<Figure size 432x288 with 1 Axes>"
      ]
     },
     "metadata": {
      "needs_background": "light"
     },
     "output_type": "display_data"
    }
   ],
   "source": [
    "x_values = Southern_data[\"Latitude\"]\n",
    "y_values = Southern_data[\"Cloudiness(%)\"]\n",
    "(slope, intercept, rvalue, pvalue, stderr) = linregress(x_values, y_values)\n",
    "regress_values = x_values * slope + intercept\n",
    "line_eq = \"y = \" + str(round(slope,2)) + \"x + \" + str(round(intercept,2))\n",
    "plt.scatter(x_values, y_values)\n",
    "plt.xlabel(\"Latitude\")\n",
    "plt.ylabel(\"Cloudiness(%)\")\n",
    "plt.title(\"Southern Hemisphere - Cloudiness(%) vs Latitude Linear Regression\")\n",
    "plt.plot(x_values, regress_values, \"r-\")\n",
    "plt.annotate(line_eq, (-55,55), fontsize=15, color=\"red\")\n",
    "print(f\"The r-value is: {rvalue}\")"
   ]
  },
  {
   "cell_type": "markdown",
   "metadata": {},
   "source": [
    "####  Northern Hemisphere - Wind Speed (mph) vs. Latitude Linear Regression"
   ]
  },
  {
   "cell_type": "code",
   "execution_count": 17,
   "metadata": {},
   "outputs": [
    {
     "name": "stdout",
     "output_type": "stream",
     "text": [
      "The r-value is: 0.12713848049835266\n"
     ]
    },
    {
     "data": {
      "image/png": "[encoded data removed]",
      "text/plain": [
       "<Figure size 432x288 with 1 Axes>"
      ]
     },
     "metadata": {
      "needs_background": "light"
     },
     "output_type": "display_data"
    }
   ],
   "source": [
    "x_values = Northern_data[\"Latitude\"]\n",
    "y_values = Northern_data[\"Wind Speed(mph)\"]\n",
    "(slope, intercept, rvalue, pvalue, stderr) = linregress(x_values, y_values)\n",
    "regress_values = x_values * slope + intercept\n",
    "line_eq = \"y = \" + str(round(slope,2)) + \"x + \" + str(round(intercept,2))\n",
    "plt.scatter(x_values, y_values)\n",
    "plt.xlabel(\"Latitude\")\n",
    "plt.ylabel(\"Wind Speed(mph)\")\n",
    "plt.title(\"Northern Hemisphere - Wind Speed(mph) vs Latitude Linear Regression\")\n",
    "plt.plot(x_values, regress_values, \"r-\")\n",
    "plt.annotate(line_eq, (30,30), fontsize=15, color=\"red\")\n",
    "print(f\"The r-value is: {rvalue}\")"
   ]
  },
  {
   "cell_type": "markdown",
   "metadata": {},
   "source": [
    "####  Southern Hemisphere - Wind Speed (mph) vs. Latitude Linear Regression"
   ]
  },
  {
   "cell_type": "code",
   "execution_count": 18,
   "metadata": {},
   "outputs": [
    {
     "name": "stdout",
     "output_type": "stream",
     "text": [
      "The r-value is: -0.29852847864531623\n"
     ]
    },
    {
     "data": {
      "image/png": "[encoded data removed]",
      "text/plain": [
       "<Figure size 432x288 with 1 Axes>"
      ]
     },
     "metadata": {
      "needs_background": "light"
     },
     "output_type": "display_data"
    }
   ],
   "source": [
    "x_values = Southern_data[\"Latitude\"]\n",
    "y_values = Southern_data[\"Wind Speed(mph)\"]\n",
    "(slope, intercept, rvalue, pvalue, stderr) = linregress(x_values, y_values)\n",
    "regress_values = x_values * slope + intercept\n",
    "line_eq = \"y = \" + str(round(slope,2)) + \"x + \" + str(round(intercept,2))\n",
    "plt.scatter(x_values, y_values)\n",
    "plt.xlabel(\"Latitude\")\n",
    "plt.ylabel(\"Wind Speed(mph)\")\n",
    "plt.title(\"Southern Hemisphere - Wind Speed(mph) vs Latitude Linear Regression\")\n",
    "plt.plot(x_values, regress_values, \"r-\")\n",
    "plt.annotate(line_eq, (-30,30), fontsize=15, color=\"red\")\n",
    "print(f\"The r-value is: {rvalue}\")"
   ]
  },
  {
   "cell_type": "code",
   "execution_count": null,
   "metadata": {},
   "outputs": [],
   "source": []
  }
 ],
 "metadata": {
  "anaconda-cloud": {},
  "kernel_info": {
   "name": "python3"
  },
  "kernelspec": {
   "display_name": "Python 3 (ipykernel)",
   "language": "python",
   "name": "python3"
  },
  "language_info": {
   "codemirror_mode": {
    "name": "ipython",
    "version": 3
   },
   "file_extension": ".py",
   "mimetype": "text/x-python",
   "name": "python",
   "nbconvert_exporter": "python",
   "pygments_lexer": "ipython3",
   "version": "3.9.7"
  },
  "latex_envs": {
   "LaTeX_envs_menu_present": true,
   "autoclose": false,
   "autocomplete": true,
   "bibliofile": "biblio.bib",
   "cite_by": "apalike",
   "current_citInitial": 1,
   "eqLabelWithNumbers": true,
   "eqNumInitial": 1,
   "hotkeys": {
    "equation": "Ctrl-E",
    "itemize": "Ctrl-I"
   },
   "labels_anchors": false,
   "latex_user_defs": false,
   "report_style_numbering": false,
   "user_envs_cfg": false
  },
  "nteract": {
   "version": "0.12.3"
  }
 },
 "nbformat": 4,
 "nbformat_minor": 2
}
